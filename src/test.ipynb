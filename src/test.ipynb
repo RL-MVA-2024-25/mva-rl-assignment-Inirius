{
 "cells": [
  {
   "cell_type": "code",
   "execution_count": 2,
   "metadata": {},
   "outputs": [],
   "source": [
    "from train import ProjectAgent\n",
    "from env_hiv import HIVPatient\n",
    "from gymnasium.wrappers import TimeLimit\n",
    "import matplotlib.pyplot as plt\n",
    "\n",
    "agent = ProjectAgent()\n",
    "env = TimeLimit(\n",
    "    env=HIVPatient(domain_randomization=False), max_episode_steps=200\n",
    ")"
   ]
  },
  {
   "cell_type": "code",
   "execution_count": null,
   "metadata": {},
   "outputs": [],
   "source": []
  },
  {
   "cell_type": "code",
   "execution_count": 2,
   "metadata": {},
   "outputs": [],
   "source": [
    "from fast_env import FastHIVPatient\n",
    "\n",
    "env = TimeLimit(\n",
    "    env=FastHIVPatient(domain_randomization=False), max_episode_steps=200\n",
    ")"
   ]
  },
  {
   "cell_type": "code",
   "execution_count": 15,
   "metadata": {},
   "outputs": [],
   "source": [
    "import os\n",
    "\n",
    "os.chdir(\"..\")"
   ]
  },
  {
   "cell_type": "code",
   "execution_count": null,
   "metadata": {},
   "outputs": [],
   "source": [
    "os.chdir(\"./src\")"
   ]
  },
  {
   "cell_type": "code",
   "execution_count": 16,
   "metadata": {},
   "outputs": [],
   "source": [
    "agent.load()"
   ]
  },
  {
   "cell_type": "code",
   "execution_count": 13,
   "metadata": {},
   "outputs": [
    {
     "name": "stdout",
     "output_type": "stream",
     "text": [
      "Episode  1, epsilon   1.00, batch size 1224, ep return  1.1\n",
      "Episode  2, epsilon   1.00, batch size 1424, ep return  1.2\n",
      "Episode  3, epsilon   0.98, batch size 1624, ep return  0.8\n",
      "Episode  4, epsilon   0.96, batch size 1824, ep return  1.2\n",
      "Episode  5, epsilon   0.94, batch size 2024, ep return  0.8\n",
      "Episode  6, epsilon   0.92, batch size 2224, ep return  0.8\n",
      "Episode  7, epsilon   0.90, batch size 2424, ep return  0.8\n",
      "Episode  8, epsilon   0.88, batch size 2624, ep return  1.0\n",
      "Episode  9, epsilon   0.86, batch size 2824, ep return  1.4\n",
      "Episode 10, epsilon   0.84, batch size 3024, ep return  1.0\n",
      "Episode 11, epsilon   0.82, batch size 3224, ep return  1.0\n",
      "Episode 12, epsilon   0.80, batch size 3424, ep return  1.2\n",
      "Episode 13, epsilon   0.78, batch size 3624, ep return  1.2\n",
      "Episode 14, epsilon   0.76, batch size 3824, ep return  1.2\n",
      "Episode 15, epsilon   0.74, batch size 4024, ep return  1.1\n",
      "Episode 16, epsilon   0.72, batch size 4224, ep return  1.3\n",
      "Episode 17, epsilon   0.70, batch size 4424, ep return  2.2\n",
      "Episode 18, epsilon   0.68, batch size 4624, ep return  1.8\n",
      "Episode 19, epsilon   0.66, batch size 4824, ep return  2.0\n",
      "Episode 20, epsilon   0.64, batch size 5024, ep return  2.0\n",
      "Episode 21, epsilon   0.62, batch size 5224, ep return  1.4\n",
      "Episode 22, epsilon   0.60, batch size 5424, ep return  1.4\n",
      "Episode 23, epsilon   0.58, batch size 5624, ep return  1.5\n",
      "Episode 24, epsilon   0.56, batch size 5824, ep return  1.6\n",
      "Episode 25, epsilon   0.54, batch size 6024, ep return  1.8\n",
      "Episode 26, epsilon   0.52, batch size 6224, ep return  2.0\n",
      "Episode 27, epsilon   0.51, batch size 6424, ep return  1.7\n",
      "Episode 28, epsilon   0.49, batch size 6624, ep return  1.5\n",
      "Episode 29, epsilon   0.47, batch size 6824, ep return  1.7\n",
      "Episode 30, epsilon   0.45, batch size 7024, ep return  1.5\n",
      "Episode 31, epsilon   0.43, batch size 7224, ep return  2.5\n",
      "Episode 32, epsilon   0.41, batch size 7424, ep return  2.2\n",
      "Episode 33, epsilon   0.39, batch size 7624, ep return  1.5\n",
      "Episode 34, epsilon   0.37, batch size 7824, ep return  1.5\n",
      "Episode 35, epsilon   0.35, batch size 8024, ep return  2.0\n",
      "Episode 36, epsilon   0.33, batch size 8224, ep return  1.6\n",
      "Episode 37, epsilon   0.31, batch size 8424, ep return  1.9\n",
      "Episode 38, epsilon   0.29, batch size 8624, ep return  1.8\n",
      "Episode 39, epsilon   0.27, batch size 8824, ep return  2.0\n",
      "Episode 40, epsilon   0.25, batch size 9024, ep return  1.6\n",
      "Episode 41, epsilon   0.23, batch size 9224, ep return  1.6\n",
      "Episode 42, epsilon   0.21, batch size 9424, ep return  1.1\n",
      "Episode 43, epsilon   0.19, batch size 9624, ep return  1.6\n",
      "Episode 44, epsilon   0.17, batch size 9824, ep return  2.2\n",
      "Episode 45, epsilon   0.15, batch size 10024, ep return  2.1\n",
      "Episode 46, epsilon   0.13, batch size 10224, ep return  2.1\n",
      "Episode 47, epsilon   0.11, batch size 10424, ep return  0.8\n",
      "Episode 48, epsilon   0.09, batch size 10624, ep return  1.5\n",
      "Episode 49, epsilon   0.07, batch size 10824, ep return  0.8\n",
      "Episode 50, epsilon   0.05, batch size 11024, ep return  1.3\n",
      "Episode 51, epsilon   0.03, batch size 11224, ep return  0.6\n",
      "Episode 52, epsilon   0.01, batch size 11424, ep return  1.3\n",
      "Episode 53, epsilon   0.01, batch size 11624, ep return  0.7\n",
      "Episode 54, epsilon   0.01, batch size 11824, ep return  0.6\n",
      "Episode 55, epsilon   0.01, batch size 12024, ep return  0.6\n",
      "Episode 56, epsilon   0.01, batch size 12224, ep return  0.6\n"
     ]
    },
    {
     "ename": "KeyboardInterrupt",
     "evalue": "",
     "output_type": "error",
     "traceback": [
      "\u001b[0;31m---------------------------------------------------------------------------\u001b[0m",
      "\u001b[0;31mKeyboardInterrupt\u001b[0m                         Traceback (most recent call last)",
      "Cell \u001b[0;32mIn[13], line 1\u001b[0m\n\u001b[0;32m----> 1\u001b[0m ep_return \u001b[38;5;241m=\u001b[39m \u001b[43magent\u001b[49m\u001b[38;5;241;43m.\u001b[39;49m\u001b[43mtrain\u001b[49m\u001b[43m(\u001b[49m\u001b[43menv\u001b[49m\u001b[43m,\u001b[49m\u001b[43m \u001b[49m\u001b[38;5;241;43m100\u001b[39;49m\u001b[43m)\u001b[49m\n\u001b[1;32m      2\u001b[0m agent\u001b[38;5;241m.\u001b[39msave(\u001b[38;5;124m\"\u001b[39m\u001b[38;5;124mmodel-HIV.pth\u001b[39m\u001b[38;5;124m\"\u001b[39m)\n\u001b[1;32m      3\u001b[0m plt\u001b[38;5;241m.\u001b[39mplot(ep_return)\n",
      "File \u001b[0;32m~/RL-TP/mva-rl-assignment-Inirius/src/train.py:165\u001b[0m, in \u001b[0;36mtrain\u001b[0;34m(self, env, max_episode)\u001b[0m\n\u001b[1;32m    163\u001b[0m episode_cum_reward \u001b[38;5;241m+\u001b[39m\u001b[38;5;241m=\u001b[39m reward\n\u001b[1;32m    164\u001b[0m \u001b[38;5;66;03m# train\u001b[39;00m\n\u001b[0;32m--> 165\u001b[0m \u001b[38;5;28;01mfor\u001b[39;00m _ \u001b[38;5;129;01min\u001b[39;00m \u001b[38;5;28mrange\u001b[39m(\u001b[38;5;28mself\u001b[39m\u001b[38;5;241m.\u001b[39mnb_gradient_steps): \n\u001b[1;32m    166\u001b[0m     \u001b[38;5;28mself\u001b[39m\u001b[38;5;241m.\u001b[39mgradient_step()\n\u001b[1;32m    167\u001b[0m \u001b[38;5;66;03m# update target network if needed\u001b[39;00m\n",
      "File \u001b[0;32m~/RL-TP/mva-rl-assignment-Inirius/src/train.py:118\u001b[0m, in \u001b[0;36mgradient_step\u001b[0;34m(self)\u001b[0m\n\u001b[1;32m    116\u001b[0m \u001b[38;5;28;01mdef\u001b[39;00m\u001b[38;5;250m \u001b[39m\u001b[38;5;21mgradient_step\u001b[39m(\u001b[38;5;28mself\u001b[39m):\n\u001b[1;32m    117\u001b[0m     \u001b[38;5;28;01mif\u001b[39;00m \u001b[38;5;28mlen\u001b[39m(\u001b[38;5;28mself\u001b[39m\u001b[38;5;241m.\u001b[39mmemory) \u001b[38;5;241m>\u001b[39m\u001b[38;5;241m=\u001b[39m \u001b[38;5;28mself\u001b[39m\u001b[38;5;241m.\u001b[39mbatch_size:\n\u001b[0;32m--> 118\u001b[0m         X, A, R, Y, D \u001b[38;5;241m=\u001b[39m \u001b[38;5;28mself\u001b[39m\u001b[38;5;241m.\u001b[39mmemory\u001b[38;5;241m.\u001b[39msample(\u001b[38;5;28mself\u001b[39m\u001b[38;5;241m.\u001b[39mbatch_size)\n\u001b[1;32m    119\u001b[0m         QYmax \u001b[38;5;241m=\u001b[39m \u001b[38;5;28mself\u001b[39m\u001b[38;5;241m.\u001b[39mtarget_model(Y)\u001b[38;5;241m.\u001b[39mmax(\u001b[38;5;241m1\u001b[39m)[\u001b[38;5;241m0\u001b[39m]\u001b[38;5;241m.\u001b[39mdetach()\n\u001b[1;32m    120\u001b[0m         update \u001b[38;5;241m=\u001b[39m torch\u001b[38;5;241m.\u001b[39maddcmul(R, \u001b[38;5;241m1\u001b[39m\u001b[38;5;241m-\u001b[39mD, QYmax, value\u001b[38;5;241m=\u001b[39m\u001b[38;5;28mself\u001b[39m\u001b[38;5;241m.\u001b[39mgamma)\n",
      "File \u001b[0;32m~/miniconda3/lib/python3.12/site-packages/torch/nn/modules/module.py:1736\u001b[0m, in \u001b[0;36mModule._wrapped_call_impl\u001b[0;34m(self, *args, **kwargs)\u001b[0m\n\u001b[1;32m   1734\u001b[0m     \u001b[38;5;28;01mreturn\u001b[39;00m \u001b[38;5;28mself\u001b[39m\u001b[38;5;241m.\u001b[39m_compiled_call_impl(\u001b[38;5;241m*\u001b[39margs, \u001b[38;5;241m*\u001b[39m\u001b[38;5;241m*\u001b[39mkwargs)  \u001b[38;5;66;03m# type: ignore[misc]\u001b[39;00m\n\u001b[1;32m   1735\u001b[0m \u001b[38;5;28;01melse\u001b[39;00m:\n\u001b[0;32m-> 1736\u001b[0m     \u001b[38;5;28;01mreturn\u001b[39;00m \u001b[38;5;28;43mself\u001b[39;49m\u001b[38;5;241;43m.\u001b[39;49m\u001b[43m_call_impl\u001b[49m\u001b[43m(\u001b[49m\u001b[38;5;241;43m*\u001b[39;49m\u001b[43margs\u001b[49m\u001b[43m,\u001b[49m\u001b[43m \u001b[49m\u001b[38;5;241;43m*\u001b[39;49m\u001b[38;5;241;43m*\u001b[39;49m\u001b[43mkwargs\u001b[49m\u001b[43m)\u001b[49m\n",
      "File \u001b[0;32m~/miniconda3/lib/python3.12/site-packages/torch/nn/modules/module.py:1747\u001b[0m, in \u001b[0;36mModule._call_impl\u001b[0;34m(self, *args, **kwargs)\u001b[0m\n\u001b[1;32m   1742\u001b[0m \u001b[38;5;66;03m# If we don't have any hooks, we want to skip the rest of the logic in\u001b[39;00m\n\u001b[1;32m   1743\u001b[0m \u001b[38;5;66;03m# this function, and just call forward.\u001b[39;00m\n\u001b[1;32m   1744\u001b[0m \u001b[38;5;28;01mif\u001b[39;00m \u001b[38;5;129;01mnot\u001b[39;00m (\u001b[38;5;28mself\u001b[39m\u001b[38;5;241m.\u001b[39m_backward_hooks \u001b[38;5;129;01mor\u001b[39;00m \u001b[38;5;28mself\u001b[39m\u001b[38;5;241m.\u001b[39m_backward_pre_hooks \u001b[38;5;129;01mor\u001b[39;00m \u001b[38;5;28mself\u001b[39m\u001b[38;5;241m.\u001b[39m_forward_hooks \u001b[38;5;129;01mor\u001b[39;00m \u001b[38;5;28mself\u001b[39m\u001b[38;5;241m.\u001b[39m_forward_pre_hooks\n\u001b[1;32m   1745\u001b[0m         \u001b[38;5;129;01mor\u001b[39;00m _global_backward_pre_hooks \u001b[38;5;129;01mor\u001b[39;00m _global_backward_hooks\n\u001b[1;32m   1746\u001b[0m         \u001b[38;5;129;01mor\u001b[39;00m _global_forward_hooks \u001b[38;5;129;01mor\u001b[39;00m _global_forward_pre_hooks):\n\u001b[0;32m-> 1747\u001b[0m     \u001b[38;5;28;01mreturn\u001b[39;00m \u001b[43mforward_call\u001b[49m\u001b[43m(\u001b[49m\u001b[38;5;241;43m*\u001b[39;49m\u001b[43margs\u001b[49m\u001b[43m,\u001b[49m\u001b[43m \u001b[49m\u001b[38;5;241;43m*\u001b[39;49m\u001b[38;5;241;43m*\u001b[39;49m\u001b[43mkwargs\u001b[49m\u001b[43m)\u001b[49m\n\u001b[1;32m   1749\u001b[0m result \u001b[38;5;241m=\u001b[39m \u001b[38;5;28;01mNone\u001b[39;00m\n\u001b[1;32m   1750\u001b[0m called_always_called_hooks \u001b[38;5;241m=\u001b[39m \u001b[38;5;28mset\u001b[39m()\n",
      "\u001b[0;31mKeyboardInterrupt\u001b[0m: "
     ]
    }
   ],
   "source": [
    "ep_return = agent.train(env, 100)\n",
    "agent.save(\"model-HIV.pth\")\n",
    "plt.plot(ep_return)"
   ]
  },
  {
   "cell_type": "code",
   "execution_count": 41,
   "metadata": {},
   "outputs": [],
   "source": [
    "data = agent.memory.data"
   ]
  },
  {
   "cell_type": "code",
   "execution_count": 43,
   "metadata": {},
   "outputs": [],
   "source": [
    "import pickle\n",
    "\n",
    "# Save the list to a file\n",
    "with open('replay_buffer.pkl', 'wb') as file:\n",
    "    pickle.dump(data, file)"
   ]
  },
  {
   "cell_type": "code",
   "execution_count": 6,
   "metadata": {},
   "outputs": [
    {
     "ename": "NameError",
     "evalue": "name 'ep_return' is not defined",
     "output_type": "error",
     "traceback": [
      "\u001b[0;31m---------------------------------------------------------------------------\u001b[0m",
      "\u001b[0;31mNameError\u001b[0m                                 Traceback (most recent call last)",
      "Cell \u001b[0;32mIn[6], line 4\u001b[0m\n\u001b[1;32m      1\u001b[0m \u001b[38;5;28;01mimport\u001b[39;00m\u001b[38;5;250m \u001b[39m\u001b[38;5;21;01mpandas\u001b[39;00m\u001b[38;5;250m \u001b[39m\u001b[38;5;28;01mas\u001b[39;00m\u001b[38;5;250m \u001b[39m\u001b[38;5;21;01mpd\u001b[39;00m\n\u001b[1;32m      3\u001b[0m \u001b[38;5;66;03m# Convert ep_return to a pandas Series\u001b[39;00m\n\u001b[0;32m----> 4\u001b[0m ep_return_series \u001b[38;5;241m=\u001b[39m pd\u001b[38;5;241m.\u001b[39mSeries(\u001b[43mep_return\u001b[49m)\n\u001b[1;32m      6\u001b[0m \u001b[38;5;66;03m# Calculate the moving average with a window size of 50\u001b[39;00m\n\u001b[1;32m      7\u001b[0m win \u001b[38;5;241m=\u001b[39m \u001b[38;5;241m200\u001b[39m\n",
      "\u001b[0;31mNameError\u001b[0m: name 'ep_return' is not defined"
     ]
    }
   ],
   "source": [
    "import pandas as pd\n",
    "\n",
    "# Convert ep_return to a pandas Series\n",
    "ep_return_series = pd.Series(ep_return)\n",
    "\n",
    "# Calculate the moving average with a window size of 50\n",
    "win = 200\n",
    "moving_average = ep_return_series.rolling(window=win).mean()\n",
    "\n",
    "# Plot the moving average\n",
    "plt.figure(figsize=(10, 5))\n",
    "plt.plot(moving_average, label=f'Moving Average (window={win})')\n",
    "plt.xlabel('Episode')\n",
    "plt.ylabel('Return')\n",
    "plt.title('Moving Average of Episode Returns')\n",
    "plt.legend()\n",
    "plt.show()"
   ]
  },
  {
   "cell_type": "code",
   "execution_count": 7,
   "metadata": {},
   "outputs": [
    {
     "name": "stdout",
     "output_type": "stream",
     "text": [
      "1 3 0 3 2 1 1 3 2 2 2 2 2 2 3 2 3 3 3 3 2 3 3 3 0 2 3 2 1 0 2 2 1 3 2 2 2 2 2 3 2 3 2 3 3 3 2 3 3 3 3 3 2 3 3 3 3 2 3 3 2 3 2 2 2 2 2 1 3 2 1 3 2 1 3 1 3 1 3 1 2 1 2 1 1 2 1 1 0 3 1 1 1 1 2 1 1 2 1 1 2 1 1 2 0 2 1 1 1 1 1 0 1 0 0 2 0 1 1 2 1 1 2 0 2 1 1 1 0 1 0 0 0 0 0 0 0 0 0 0 0 0 0 0 0 0 0 0 0 0 0 0 0 0 0 0 0 0 0 0 0 0 0 0 0 0 0 0 0 0 0 0 0 0 0 0 0 0 0 0 0 0 0 0 0 0 0 0 0 0 0 0 0 0 0 0 0 0 0 0 \n",
      " 31880834975.06211\n"
     ]
    }
   ],
   "source": [
    "obs, info = env.reset()\n",
    "done = False\n",
    "truncated = False\n",
    "episode_reward = 0\n",
    "while not done and not truncated:\n",
    "    action = agent.act(obs)\n",
    "    print(action, end=\" \")\n",
    "    obs, reward, done, truncated, _ = env.step(action)\n",
    "    episode_reward += reward\n",
    "print(\"\\n\",episode_reward)"
   ]
  },
  {
   "cell_type": "code",
   "execution_count": 10,
   "metadata": {},
   "outputs": [
    {
     "name": "stdout",
     "output_type": "stream",
     "text": [
      "Score agent: 3188.0834975062107\n",
      "Score agent with domain randomization: 847.1870302373608\n"
     ]
    }
   ],
   "source": [
    "from evaluate import evaluate_HIV, evaluate_HIV_population\n",
    "\n",
    "score_agent: float = evaluate_HIV(agent=agent, nb_episode=5)\n",
    "score_agent_dr: float = evaluate_HIV_population(agent=agent, nb_episode=20)\n",
    "print(f\"Score agent: {score_agent*1e-7}\")\n",
    "print(f\"Score agent with domain randomization: {score_agent_dr*1e-7}\")\n",
    "with open(file=\"score.txt\", mode=\"w\") as f:\n",
    "            f.write(f\"{score_agent}\\n{score_agent_dr}\")"
   ]
  },
  {
   "cell_type": "code",
   "execution_count": 12,
   "metadata": {},
   "outputs": [
    {
     "name": "stdout",
     "output_type": "stream",
     "text": [
      "1 2 3 4 5 "
     ]
    },
    {
     "ename": "AssertionError",
     "evalue": "",
     "output_type": "error",
     "traceback": [
      "\u001b[0;31m---------------------------------------------------------------------------\u001b[0m",
      "\u001b[0;31mAssertionError\u001b[0m                            Traceback (most recent call last)",
      "Cell \u001b[0;32mIn[12], line 14\u001b[0m\n\u001b[1;32m     12\u001b[0m test_expected_result_one_env_2e10()\n\u001b[1;32m     13\u001b[0m \u001b[38;5;28mprint\u001b[39m(\u001b[38;5;124m\"\u001b[39m\u001b[38;5;124m5\u001b[39m\u001b[38;5;124m\"\u001b[39m, end\u001b[38;5;241m=\u001b[39m\u001b[38;5;124m\"\u001b[39m\u001b[38;5;124m \u001b[39m\u001b[38;5;124m\"\u001b[39m)\n\u001b[0;32m---> 14\u001b[0m \u001b[43mtest_expected_result_one_env_5e10\u001b[49m\u001b[43m(\u001b[49m\u001b[43m)\u001b[49m\n\u001b[1;32m     15\u001b[0m \u001b[38;5;28mprint\u001b[39m(\u001b[38;5;124m\"\u001b[39m\u001b[38;5;124m6\u001b[39m\u001b[38;5;124m\"\u001b[39m, end\u001b[38;5;241m=\u001b[39m\u001b[38;5;124m\"\u001b[39m\u001b[38;5;124m \u001b[39m\u001b[38;5;124m\"\u001b[39m)\n\u001b[1;32m     16\u001b[0m test_expected_result_dr_env_1e10()\n",
      "File \u001b[0;32m~/RL-TP/mva-rl-assignment-Inirius/src/grading.py:44\u001b[0m, in \u001b[0;36mtest_expected_result_one_env_5e10\u001b[0;34m()\u001b[0m\n\u001b[1;32m     42\u001b[0m     lines \u001b[38;5;241m=\u001b[39m [\u001b[38;5;28mfloat\u001b[39m(line\u001b[38;5;241m.\u001b[39mrstrip()) \u001b[38;5;28;01mfor\u001b[39;00m line \u001b[38;5;129;01min\u001b[39;00m file]\n\u001b[1;32m     43\u001b[0m one_env_performance \u001b[38;5;241m=\u001b[39m lines[\u001b[38;5;241m0\u001b[39m]\n\u001b[0;32m---> 44\u001b[0m \u001b[38;5;28;01massert\u001b[39;00m one_env_performance \u001b[38;5;241m>\u001b[39m\u001b[38;5;241m=\u001b[39m \u001b[38;5;241m5e10\u001b[39m\n",
      "\u001b[0;31mAssertionError\u001b[0m: "
     ]
    }
   ],
   "source": [
    "from grading import test_expected_result_one_env_3432807, test_expected_result_one_env_1e8, test_expected_result_one_env_1e9, test_expected_result_one_env_1e10, test_expected_result_one_env_2e10, test_expected_result_one_env_5e10\n",
    "from grading import test_expected_result_dr_env_1e10, test_expected_result_dr_env_2e10, test_expected_result_dr_env_5e10\n",
    "\n",
    "test_expected_result_one_env_3432807()\n",
    "print(\"1\", end=\" \")\n",
    "test_expected_result_one_env_1e8()\n",
    "print(\"2\", end=\" \")\n",
    "test_expected_result_one_env_1e9()\n",
    "print(\"3\", end=\" \")\n",
    "test_expected_result_one_env_1e10()\n",
    "print(\"4\", end=\" \")\n",
    "test_expected_result_one_env_2e10()\n",
    "print(\"5\", end=\" \")\n",
    "test_expected_result_one_env_5e10()\n",
    "print(\"6\", end=\" \")\n",
    "test_expected_result_dr_env_1e10()\n",
    "print(\"7\", end=\" \")\n",
    "test_expected_result_dr_env_2e10()\n",
    "print(\"8\", end=\" \")\n",
    "test_expected_result_dr_env_5e10()\n",
    "print(\"9\", end=\" \")"
   ]
  }
 ],
 "metadata": {
  "kernelspec": {
   "display_name": "base",
   "language": "python",
   "name": "python3"
  },
  "language_info": {
   "codemirror_mode": {
    "name": "ipython",
    "version": 3
   },
   "file_extension": ".py",
   "mimetype": "text/x-python",
   "name": "python",
   "nbconvert_exporter": "python",
   "pygments_lexer": "ipython3",
   "version": "3.12.2"
  }
 },
 "nbformat": 4,
 "nbformat_minor": 2
}
